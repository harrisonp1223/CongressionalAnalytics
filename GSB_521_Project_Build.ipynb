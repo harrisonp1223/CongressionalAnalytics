{
  "nbformat": 4,
  "nbformat_minor": 0,
  "metadata": {
    "colab": {
      "provenance": [],
      "include_colab_link": true
    },
    "kernelspec": {
      "name": "python3",
      "display_name": "Python 3"
    },
    "language_info": {
      "name": "python"
    }
  },
  "cells": [
    {
      "cell_type": "markdown",
      "metadata": {
        "id": "view-in-github",
        "colab_type": "text"
      },
      "source": [
        "<a href=\"https://colab.research.google.com/github/harrisonp1223/CongressionalAnalytics/blob/main/GSB_521_Project_Build.ipynb\" target=\"_parent\"><img src=\"https://colab.research.google.com/assets/colab-badge.svg\" alt=\"Open In Colab\"/></a>"
      ]
    },
    {
      "cell_type": "markdown",
      "source": [
        "# Greg Larmour\n",
        "glarmour@calpoly.edu\n",
        "# Harrison Pearce\n",
        "hlpearce@calpoly.edu\n",
        "\n",
        "\n",
        "GSB 521 - Pierce\n",
        "\n",
        "8 February 2023"
      ],
      "metadata": {
        "id": "c9DeFBptdGC-"
      }
    },
    {
      "cell_type": "markdown",
      "source": [
        "# Questions For Analysis:\n",
        "\n",
        "1. Are Democrats Or Republicans Better Investors?\n",
        "\n",
        "Intitial Hypothesis: Democrats and Republicans, on average, are equally profitable Investors.\n",
        "\n",
        "2. Did Democrats or Republicans Receive More COVID Unemployment Funding?\n",
        "\n",
        "Intitial Hypothesis: Democrats and Republicans, on average, received an equal amount of unemployment funding during COVID."
      ],
      "metadata": {
        "id": "IYtl8rhidg1N"
      }
    },
    {
      "cell_type": "code",
      "source": [
        "import pandas as pd\n",
        "import json\n",
        "from urllib.request import urlopen\n",
        "import matplotlib.pyplot as plt"
      ],
      "metadata": {
        "id": "E3KLIinPs3od"
      },
      "execution_count": 4,
      "outputs": []
    },
    {
      "cell_type": "markdown",
      "source": [
        "We will first collect data from the census on household incomes for every congressional district in each state. "
      ],
      "metadata": {
        "id": "uXQKIiSBELih"
      }
    },
    {
      "cell_type": "code",
      "source": [
        "url=\"https://api.census.gov/data/2021/acs/acs1?get=NAME,B19001_001E,B19001_002E,B19001_017E&for=congressional%20district:*&in=state:*\"\n",
        "response = urlopen(url)\n",
        "data_json = json.loads(response.read())\n",
        "data_json.pop(0) \n",
        "cols = ['District Name','Total Households','Less than $10k', '$200k+', 'State code', 'district number']\n",
        "acs_df = pd.DataFrame(data_json, columns = cols)\n",
        "acs_df[['District', 'State']] = acs_df['District Name'].str.split(',', expand=True)\n",
        "acs_df['district number'] = pd.to_numeric(acs_df['district number'])\n",
        "acs_df['State'] = acs_df['State'].str.strip()\n",
        "acs_df = acs_df[['Total Households', 'Less than $10k', \"$200k+\", 'district number', 'State']]\n",
        "acs_df[\"Total Households\"] = pd.to_numeric(acs_df[\"Total Households\"])\n",
        "acs_df[\"Less than $10k\"] = pd.to_numeric(acs_df[\"Less than $10k\"])\n",
        "acs_df['$200k+'] = pd.to_numeric(acs_df['$200k+'])\n",
        "acs_df['% of households over $200k'] = (100*acs_df['$200k+'])/acs_df['Total Households']\n",
        "acs_df['% of households less than $10k'] = (100*acs_df['Less than $10k'])/acs_df['Total Households']"
      ],
      "metadata": {
        "id": "KYZLdbwOBpzo"
      },
      "execution_count": 5,
      "outputs": []
    },
    {
      "cell_type": "markdown",
      "source": [
        "We will clean our congressional income data below."
      ],
      "metadata": {
        "id": "qxRDki5GEWZL"
      }
    },
    {
      "cell_type": "code",
      "source": [
        "party_df = pd.read_csv(\"http://goodcsv.com/wp-content/uploads/2020/08/us-house-of-representatives-2020.csv\", encoding = \"ISO-8859-1\")\n",
        "party_df['district number'] = party_df['District/Position'].str.extract('(\\d+)')\n",
        "party_df['district number'] = party_df['district number'].fillna(0)\n",
        "party_df['district number'] = pd.to_numeric(party_df['district number'])\n",
        "party_df['State'] = party_df['State/Territory']\n",
        "party_df['State'] = party_df['State'].str.strip()\n",
        "party_df['Party'] = party_df['Party'].str.strip() \n",
        "party_df = party_df[['State', 'Party', \"district number\"]]"
      ],
      "metadata": {
        "id": "qF5Nkv_gCAtJ"
      },
      "execution_count": 6,
      "outputs": []
    },
    {
      "cell_type": "code",
      "source": [
        "merged_df = pd.merge(acs_df, party_df, on=[\"State\", \"district number\"])"
      ],
      "metadata": {
        "id": "n1PkQdq5CJs4"
      },
      "execution_count": 7,
      "outputs": []
    },
    {
      "cell_type": "markdown",
      "source": [
        "We will now import our data from the Internal Revenue Service. The dataset from the Internal Revenue Service includes many interesting variables about the characteristics of each Congressional District. These include metrics such as gross income, total income, taxed income, number of returns, amounts of returns, along with many other variables. This Data Set includes information about the year 2020.\n",
        "\n",
        "\n",
        "We would like to further explore the total capital gain (or loss) in each district in order to characterize the investing performance of congressional parties with differing political designations. \n",
        "\n",
        "\n",
        "We would then like to analyze the total unemployment compensation recieved per district in 2020, the COVID year where many Americans recieved unemployment checks due to their untimely unemployment. \n",
        "\n",
        "Finally, we will use the IRS Dataset to analyze the relationships between the variables of interest listed above with each district's total income. "
      ],
      "metadata": {
        "id": "YcGMQGd-Egb8"
      }
    },
    {
      "cell_type": "code",
      "execution_count": 8,
      "metadata": {
        "id": "D_eSq8ZCsipZ"
      },
      "outputs": [],
      "source": [
        "social_df = pd.read_csv(\"https://www.irs.gov/pub/irs-soi/20incd.csv\")"
      ]
    },
    {
      "cell_type": "markdown",
      "source": [
        "Our data needs to be cleaned so we can merge it with our political party data set and our congressional income data set. This is done below by converting each State abbreviation to the state's full name."
      ],
      "metadata": {
        "id": "gD-_Jbg-E68D"
      }
    },
    {
      "cell_type": "code",
      "source": [
        "\n",
        "state_abbr_to_name = {'AL': 'Alabama', 'AK': 'Alaska', 'AZ': 'Arizona', 'AR': 'Arkansas', \n",
        "                     'CA': 'California', 'CO': 'Colorado', 'CT': 'Connecticut', 'DE': 'Delaware', \n",
        "                     'FL': 'Florida', 'GA': 'Georgia', 'HI': 'Hawaii', 'ID': 'Idaho', \n",
        "                     'IL': 'Illinois', 'IN': 'Indiana', 'IA': 'Iowa', 'KS': 'Kansas', \n",
        "                     'KY': 'Kentucky', 'LA': 'Louisiana', 'ME': 'Maine', 'MD': 'Maryland', \n",
        "                     'MA': 'Massachusetts', 'MI': 'Michigan', 'MN': 'Minnesota', 'MS': 'Mississippi', \n",
        "                     'MO': 'Missouri', 'MT': 'Montana', 'NE': 'Nebraska', 'NV': 'Nevada', \n",
        "                     'NH': 'New Hampshire', 'NJ': 'New Jersey', 'NM': 'New Mexico', 'NY': 'New York', \n",
        "                     'NC': 'North Carolina', 'ND': 'North Dakota', 'OH': 'Ohio', 'OK': 'Oklahoma', \n",
        "                     'OR': 'Oregon', 'PA': 'Pennsylvania', 'RI': 'Rhode Island', 'SC': 'South Carolina', \n",
        "                     'SD': 'South Dakota', 'TN': 'Tennessee', 'TX': 'Texas', 'UT': 'Utah', \n",
        "                     'VT': 'Vermont', 'VA': 'Virginia', 'WA': 'Washington', 'WV': 'West Virginia', \n",
        "                     'WI': 'Wisconsin', 'WY': 'Wyoming'}\n",
        "social_df['State'] = social_df['STATE'].map(state_abbr_to_name)\n",
        "social_df['district number'] = social_df['CONG_DISTRICT']"
      ],
      "metadata": {
        "id": "Ihh_XfJnu2nQ"
      },
      "execution_count": 9,
      "outputs": []
    },
    {
      "cell_type": "code",
      "source": [
        "merged_df_final = pd.merge(merged_df, social_df, on=[\"State\", \"district number\"])                           \n",
        "merged_df_final['Number of Farm Returns']  = merged_df_final[\"SCHF\"]\n",
        "merged_df_final['Net Capital Gain (Or Loss)']  = merged_df_final[\"A01000\"]\n",
        "merged_df_final[\"COVID Unemployment Compensation Amount\"] = merged_df_final[\"A02300\"]\n",
        "merged_df_final['Total Income'] = merged_df_final['A02650']"
      ],
      "metadata": {
        "id": "s_0BHX_dCW7u"
      },
      "execution_count": 10,
      "outputs": []
    },
    {
      "cell_type": "code",
      "source": [
        "print(merged_df_final.describe)"
      ],
      "metadata": {
        "id": "vT7NbHodz6zZ"
      },
      "execution_count": null,
      "outputs": []
    },
    {
      "cell_type": "code",
      "source": [
        "# Group by & aggregate major statistics by congressional district \n",
        "grouped = merged_df_final.groupby(\"CONG_DISTRICT\")\n",
        "\n",
        "agg_Income = grouped.agg({\"Total Income\": \"mean\"})\n",
        "agg_covid = grouped.agg({\"COVID Unemployment Compensation Amount\": \"mean\"})\n",
        "agg_cap_gain = grouped.agg({\"Net Capital Gain (Or Loss)\": \"mean\"})\n",
        "print(agg_Income)\n",
        "print(agg_covid)\n",
        "print(agg_cap_gain)"
      ],
      "metadata": {
        "id": "rZA3gTQh2Jj7",
        "outputId": "42e0cc18-9a0d-4f60-a0ee-8ef28d1d8be7",
        "colab": {
          "base_uri": "https://localhost:8080/"
        }
      },
      "execution_count": 16,
      "outputs": [
        {
          "output_type": "stream",
          "name": "stdout",
          "text": [
            "               Total Income\n",
            "CONG_DISTRICT              \n",
            "0              6.003298e+06\n",
            "1              5.186049e+06\n",
            "2              5.155904e+06\n",
            "3              5.464301e+06\n",
            "4              5.602929e+06\n",
            "5              5.720007e+06\n",
            "6              5.801317e+06\n",
            "7              5.971811e+06\n",
            "8              5.718083e+06\n",
            "9              5.384144e+06\n",
            "10             7.017649e+06\n",
            "11             6.677276e+06\n",
            "12             7.744665e+06\n",
            "13             4.389294e+06\n",
            "14             5.918449e+06\n",
            "15             4.713193e+06\n",
            "16             5.476883e+06\n",
            "17             6.953493e+06\n",
            "18             9.278396e+06\n",
            "19             7.232702e+06\n",
            "20             5.031572e+06\n",
            "21             6.968131e+06\n",
            "22             6.644955e+06\n",
            "23             5.071981e+06\n",
            "24             5.748483e+06\n",
            "25             6.064817e+06\n",
            "26             6.046478e+06\n",
            "27             6.698503e+06\n",
            "28             5.301210e+06\n",
            "29             2.860409e+06\n",
            "30             6.148325e+06\n",
            "31             5.757952e+06\n",
            "32             7.027458e+06\n",
            "33             9.596504e+06\n",
            "34             2.999964e+06\n",
            "35             3.745736e+06\n",
            "36             4.368573e+06\n",
            "37             6.471320e+06\n",
            "38             4.291722e+06\n",
            "39             6.428407e+06\n",
            "40             2.654023e+06\n",
            "41             3.696799e+06\n",
            "42             5.522433e+06\n",
            "43             4.199088e+06\n",
            "44             2.999263e+06\n",
            "45             9.665367e+06\n",
            "46             3.473807e+06\n",
            "47             4.926610e+06\n",
            "48             9.746206e+06\n",
            "49             9.458876e+06\n",
            "50             5.542086e+06\n",
            "51             3.290945e+06\n",
            "52             9.732868e+06\n",
            "53             5.788857e+06\n",
            "               COVID Unemployment Compensation Amount\n",
            "CONG_DISTRICT                                        \n",
            "0                                       136392.457143\n",
            "1                                       157683.483721\n",
            "2                                       160094.995349\n",
            "3                                       162215.442105\n",
            "4                                       156152.285714\n",
            "5                                       171455.965517\n",
            "6                                       172409.038462\n",
            "7                                       179375.575000\n",
            "8                                       182798.400000\n",
            "9                                       220717.823529\n",
            "10                                      213513.615385\n",
            "11                                      200758.516667\n",
            "12                                      193163.545455\n",
            "13                                      204292.480000\n",
            "14                                      226178.311111\n",
            "15                                      205326.000000\n",
            "16                                      180132.857143\n",
            "17                                      171986.800000\n",
            "18                                      173293.533333\n",
            "19                                      170522.400000\n",
            "20                                      184729.800000\n",
            "21                                      179389.100000\n",
            "22                                      192857.300000\n",
            "23                                      180377.050000\n",
            "24                                      191282.650000\n",
            "25                                      191474.550000\n",
            "26                                      209547.500000\n",
            "27                                      213054.100000\n",
            "28                                      310264.000000\n",
            "29                                      246478.400000\n",
            "30                                      281208.900000\n",
            "31                                      198968.500000\n",
            "32                                      229273.200000\n",
            "33                                      206823.200000\n",
            "34                                      235882.000000\n",
            "35                                      214920.700000\n",
            "36                                      253959.500000\n",
            "37                                      311735.000000\n",
            "38                                      281205.800000\n",
            "39                                      309242.400000\n",
            "40                                      240983.200000\n",
            "41                                      249183.600000\n",
            "42                                      299572.400000\n",
            "43                                      310030.800000\n",
            "44                                      258167.800000\n",
            "45                                      282492.200000\n",
            "46                                      287059.400000\n",
            "47                                      323457.800000\n",
            "48                                      317059.800000\n",
            "49                                      251631.800000\n",
            "50                                      260643.800000\n",
            "51                                      349163.800000\n",
            "52                                      250194.200000\n",
            "53                                      308435.800000\n",
            "               Net Capital Gain (Or Loss)\n",
            "CONG_DISTRICT                            \n",
            "0                            4.760102e+05\n",
            "1                            3.412804e+05\n",
            "2                            3.666498e+05\n",
            "3                            3.935109e+05\n",
            "4                            4.307609e+05\n",
            "5                            4.383858e+05\n",
            "6                            4.099958e+05\n",
            "7                            5.109398e+05\n",
            "8                            3.740995e+05\n",
            "9                            4.379094e+05\n",
            "10                           7.627959e+05\n",
            "11                           5.216824e+05\n",
            "12                           1.017864e+06\n",
            "13                           2.828586e+05\n",
            "14                           4.978815e+05\n",
            "15                           2.259102e+05\n",
            "16                           4.700342e+05\n",
            "17                           5.733304e+05\n",
            "18                           1.637264e+06\n",
            "19                           1.099212e+06\n",
            "20                           4.945982e+05\n",
            "21                           1.495085e+06\n",
            "22                           7.415165e+05\n",
            "23                           4.531332e+05\n",
            "24                           6.629399e+05\n",
            "25                           6.685156e+05\n",
            "26                           4.610637e+05\n",
            "27                           9.916755e+05\n",
            "28                           5.037606e+05\n",
            "29                           5.665330e+04\n",
            "30                           7.298692e+05\n",
            "31                           2.569402e+05\n",
            "32                           1.003632e+06\n",
            "33                           1.795950e+06\n",
            "34                           1.151469e+05\n",
            "35                           1.009854e+05\n",
            "36                           2.162686e+05\n",
            "37                           7.133034e+05\n",
            "38                           9.952900e+04\n",
            "39                           4.584708e+05\n",
            "40                           4.605920e+04\n",
            "41                           7.637320e+04\n",
            "42                           1.872640e+05\n",
            "43                           1.418218e+05\n",
            "44                           3.930320e+04\n",
            "45                           1.000150e+06\n",
            "46                           8.537100e+04\n",
            "47                           2.159874e+05\n",
            "48                           1.449358e+06\n",
            "49                           1.372735e+06\n",
            "50                           2.643860e+05\n",
            "51                           4.257440e+04\n",
            "52                           1.236273e+06\n",
            "53                           2.434650e+05\n"
          ]
        }
      ]
    },
    {
      "cell_type": "markdown",
      "source": [
        "# PLOT 1 :\n",
        "\n",
        "Net Capital Gain (Or Loss) Per District vs. Total District Income"
      ],
      "metadata": {
        "id": "x91RlxdsekhA"
      }
    },
    {
      "cell_type": "code",
      "source": [
        "R = merged_df_final[merged_df_final['Party'].str.contains('R')]\n",
        "D = merged_df_final[merged_df_final['Party'].str.contains('D')]\n",
        "L = merged_df_final[merged_df_final['Party'].str.contains('L')]\n",
        "\n",
        "fig, ax = plt.subplots(figsize=(15, 12))\n",
        "R.plot.scatter(x='Total Income', y='Net Capital Gain (Or Loss)', c='red',label='Republican', ax=ax, title = 'Net Capital Gain vs. Total Income')\n",
        "D.plot.scatter(x='Total Income', y='Net Capital Gain (Or Loss)',c='blue',label='Democrat', ax=ax)\n",
        "L.plot.scatter(x='Total Income', y='Net Capital Gain (Or Loss)',c='gold',label='Libertarian', ax=ax)\n",
        "\n",
        "plt.legend()\n",
        "plt.show()"
      ],
      "metadata": {
        "colab": {
          "base_uri": "https://localhost:8080/",
          "height": 730
        },
        "id": "HlMojRQJYjxX",
        "outputId": "d10d5750-0994-4aa0-d949-b065753caa80"
      },
      "execution_count": null,
      "outputs": [
        {
          "output_type": "display_data",
          "data": {
            "text/plain": [
              "<Figure size 1080x864 with 1 Axes>"
            ],
            "image/png": "[encoded data removed]"
          },
          "metadata": {
            "needs_background": "light"
          }
        }
      ]
    },
    {
      "cell_type": "markdown",
      "source": [
        "# Analysis of 1st Hypothesis:"
      ],
      "metadata": {
        "id": "5fLv_1FGCDTv"
      }
    },
    {
      "cell_type": "markdown",
      "source": [
        "As income increases, Net Capital Gain in each district exponentially increases. This is especially shown in Democratic districts. On average, it appears that for larger income areas, Capital Gains from investments are larger as well. Comparing the Democratic and Republican districts, we can see that they both follow a similar distribution but there are many more Democratic districts in the high income & high net capital gain portion of the graph. This indicates that Democrats would on average slightly beat Republicans in investment performance. "
      ],
      "metadata": {
        "id": "vkQIwreQbEHP"
      }
    },
    {
      "cell_type": "markdown",
      "source": [
        "# PLOT 2 :\n",
        "\n",
        "COVID Unemployment Compensation Amount ($) vs. Total District Income"
      ],
      "metadata": {
        "id": "PeDhchuMer4P"
      }
    },
    {
      "cell_type": "code",
      "source": [
        "R = merged_df_final[merged_df_final['Party'].str.contains('R')]\n",
        "D = merged_df_final[merged_df_final['Party'].str.contains('D')]\n",
        "L = merged_df_final[merged_df_final['Party'].str.contains('L')]\n",
        "\n",
        "fig, ax = plt.subplots(figsize=(15, 12))\n",
        "R.plot.scatter(x='Total Income', y=\"COVID Unemployment Compensation Amount\", c='red',label='Republican', ax=ax,  title = 'COVID Unemployment Compensation vs. Total Income')\n",
        "D.plot.scatter(x='Total Income', y=\"COVID Unemployment Compensation Amount\",c='blue',label='Democrat', ax=ax)\n",
        "L.plot.scatter(x='Total Income', y=\"COVID Unemployment Compensation Amount\",c='gold',label='Libertarian', ax=ax)\n",
        "\n",
        "plt.legend()\n",
        "plt.show()"
      ],
      "metadata": {
        "colab": {
          "base_uri": "https://localhost:8080/",
          "height": 730
        },
        "id": "aTDa7WmSbpWD",
        "outputId": "89882854-a42e-4b13-af5b-751ae55dcb1f"
      },
      "execution_count": null,
      "outputs": [
        {
          "output_type": "display_data",
          "data": {
            "text/plain": [
              "<Figure size 1080x864 with 1 Axes>"
            ],
            "image/png": "[encoded data removed]"
          },
          "metadata": {
            "needs_background": "light"
          }
        }
      ]
    },
    {
      "cell_type": "markdown",
      "source": [
        "# Analysis of 2nd Hypothesis:"
      ],
      "metadata": {
        "id": "_EsTYfOlB34P"
      }
    },
    {
      "cell_type": "markdown",
      "source": [
        "Interestingly enough, as Total District income increased, the amount of COVID unemployment compensation also increased. This Unemployment Compensation was greater in Low income areas for Democratic districts. The compensation was also greater in High income areas for Democratic districts. In Plot 2 we can observe a positive correlation between Total Income and Unemployment Benefits amongst Democratic districts, along with low-income Democratic districts having extremely high unemployment benefits relative to Republican districts. "
      ],
      "metadata": {
        "id": "wLK3-2pucPC1"
      }
    },
    {
      "cell_type": "markdown",
      "source": [
        "# Conclusion:"
      ],
      "metadata": {
        "id": "mL7VAgsSJAFo"
      }
    },
    {
      "cell_type": "markdown",
      "source": [
        "We initially predicted that Democrats and Republicans were equally profitable investors, and that Democrats and Republicans would receive the same amount of unemployment benefits on average. After further analysis, we reject our initial hypotheses with evidence from our congressional district data and conclude that Democrats are more profitable investors than Republicans on average, and that Democrats generally received more unemployment benefits than Republicans on average. "
      ],
      "metadata": {
        "id": "EvxOz4sS8gZo"
      }
    },
    {
      "cell_type": "code",
      "source": [
        "import csv\n",
        "\n",
        "data = [[\"NAME\",\"B19001_001E\",\"B19001_002E\",\"B19001_017E\",\"state\",\"congressional district\"],\n",
        "[\"Congressional District 10 (116th Congress), Michigan\",\"289474\",\"14153\",\"19390\",\"26\",\"10\"],\n",
        "[\"Congressional District 4 (116th Congress), Mississippi\",\"299804\",\"23793\",\"10899\",\"28\",\"04\"],\n",
        "[\"Congressional District 14 (116th Congress), Michigan\",\"278057\",\"27728\",\"19574\",\"26\",\"14\"],\n",
        "[\"Congressional District 1 (116th Congress), Michigan\",\"306685\",\"19036\",\"12208\",\"26\",\"01\"],\n",
        "[\"Congressional District 3 (116th Congress), Mississippi\",\"285554\",\"26481\",\"12412\",\"28\",\"03\"],\n",
        "[\"Congressional District 4 (116th Congress), Nevada\",\"283677\",\"18570\",\"17797\",\"32\",\"04\"],\n",
        "[\"Congressional District 3 (116th Congress), Nevada\",\"343373\",\"20441\",\"38494\",\"32\",\"03\"],\n",
        "[\"Congressional District 2 (116th Congress), New Hampshire\",\"262930\",\"9151\",\"29470\",\"33\",\"02\"],\n",
        "[\"Congressional District 1 (116th Congress), New Hampshire\",\"285096\",\"8084\",\"32668\",\"33\",\"01\"],\n",
        "[\"Congressional District 1 (116th Congress), Nebraska\",\"263104\",\"12087\",\"15711\",\"31\",\"01\"],\n",
        "[\"Congressional District 3 (116th Congress), New Mexico\",\"271782\",\"23084\",\"16799\",\"35\",\"03\"],\n",
        "[\"Congressional District 1 (116th Congress), Ohio\",\"308009\",\"24164\",\"30709\",\"39\",\"01\"],\n",
        "[\"Congressional District 5 (116th Congress), Oklahoma\",\"333919\",\"23520\",\"20966\",\"40\",\"05\"],\n",
        "[\"Congressional District 9 (116th Congress), North Carolina\",\"289178\",\"19460\",\"33817\",\"37\",\"09\"],\n",
        "[\"Congressional District 10 (116th Congress), North Carolina\",\"314682\",\"18235\",\"16908\",\"37\",\"10\"],\n",
        "[\"Congressional District 8 (116th Congress), New York\",\"305027\",\"30603\",\"30808\",\"36\",\"08\"],\n",
        "[\"Congressional District 9 (116th Congress), New York\",\"299573\",\"25957\",\"34095\",\"36\",\"09\"],\n",
        "[\"Congressional District 10 (116th Congress), New York\",\"316752\",\"22546\",\"78661\",\"36\",\"10\"],\n",
        "[\"Congressional District 11 (116th Congress), New York\",\"268455\",\"19149\",\"31124\",\"36\",\"11\"],\n",
        "[\"Congressional District 13 (116th Congress), New York\",\"297240\",\"40571\",\"17943\",\"36\",\"13\"],\n",
        "[\"Congressional District 16 (116th Congress), New York\",\"284253\",\"20517\",\"51951\",\"36\",\"16\"],\n",
        "[\"Congressional District 17 (116th Congress), New York\",\"258942\",\"10689\",\"63437\",\"36\",\"17\"],\n",
        "[\"Congressional District 3 (116th Congress), Pennsylvania\",\"335449\",\"41413\",\"27360\",\"42\",\"03\"],\n",
        "[\"Congressional District 1 (116th Congress), Rhode Island\",\"220794\",\"14673\",\"21154\",\"44\",\"01\"],\n",
        "[\"Congressional District 5 (116th Congress), Oregon\",\"325468\",\"15085\",\"29661\",\"41\",\"05\"],\n",
        "[\"Congressional District 20 (116th Congress), New York\",\"314476\",\"18247\",\"28446\",\"36\",\"20\"],\n",
        "[\"Congressional District 3 (116th Congress), New Jersey\",\"293063\",\"12956\",\"39369\",\"34\",\"03\"],\n",
        "[\"Congressional District 5 (116th Congress), New Jersey\",\"275729\",\"9737\",\"64915\",\"34\",\"05\"],\n",
        "[\"Congressional District 7 (116th Congress), New Jersey\",\"286558\",\"7946\",\"81477\",\"34\",\"07\"],\n",
        "[\"Congressional District 9 (116th Congress), New Jersey\",\"283783\",\"17923\",\"36065\",\"34\",\"09\"],\n",
        "[\"Congressional District 1 (116th Congress), New Jersey\",\"290002\",\"15161\",\"30468\",\"34\",\"01\"],\n",
        "[\"Congressional District 2 (116th Congress), Ohio\",\"309474\",\"21918\",\"24953\",\"39\",\"02\"],\n",
        "[\"Congressional District 4 (116th Congress), Ohio\",\"284441\",\"16750\",\"12465\",\"39\",\"04\"],\n",
        "[\"Congressional District 6 (116th Congress), Ohio\",\"273565\",\"22649\",\"9621\",\"39\",\"06\"],\n",
        "[\"Congressional District 8 (116th Congress), Ohio\",\"292024\",\"15971\",\"16907\",\"39\",\"08\"],\n",
        "[\"Congressional District 10 (116th Congress), Ohio\",\"304802\",\"20645\",\"17535\",\"39\",\"10\"],\n",
        "[\"Congressional District 12 (116th Congress), Ohio\",\"318732\",\"14577\",\"38734\",\"39\",\"12\"],\n",
        "[\"Congressional District 15 (116th Congress), Ohio\",\"303591\",\"14183\",\"24550\",\"39\",\"15\"],\n",
        "[\"Congressional District 6 (116th Congress), Pennsylvania\",\"286271\",\"12485\",\"49578\",\"42\",\"06\"],\n",
        "[\"Congressional District 3 (116th Congress), Oregon\",\"349398\",\"19624\",\"38036\",\"41\",\"03\"],\n",
        "[\"Congressional District 23 (116th Congress), New York\",\"289341\",\"21779\",\"13771\",\"36\",\"23\"],\n",
        "[\"Congressional District 1 (116th Congress), Oregon\",\"343553\",\"14195\",\"45888\",\"41\",\"01\"],\n",
        "[\"Congressional District 2 (116th Congress), Oregon\",\"342608\",\"20428\",\"21665\",\"41\",\"02\"],\n",
        "[\"Congressional District 27 (116th Congress), New York\",\"300622\",\"12945\",\"22902\",\"36\",\"27\"],\n",
        "[\"Congressional District 8 (116th Congress), Pennsylvania\",\"285970\",\"16480\",\"13516\",\"42\",\"08\"],\n",
        "[\"Congressional District 10 (116th Congress), Pennsylvania\",\"307667\",\"14682\",\"20361\",\"42\",\"10\"],\n",
        "[\"Congressional District 13 (116th Congress), Pennsylvania\",\"278024\",\"13984\",\"11267\",\"42\",\"13\"],\n",
        "[\"Congressional District 15 (116th Congress), Pennsylvania\",\"270163\",\"15420\",\"8943\",\"42\",\"15\"],\n",
        "[\"Congressional District 17 (116th Congress), Pennsylvania\",\"312461\",\"13046\",\"35588\",\"42\",\"17\"],\n",
        "[\"Congressional District 2 (116th Congress), Tennessee\",\"319491\",\"16789\",\"20480\",\"47\",\"02\"],\n",
        "[\"Congressional District 9 (116th Congress), Tennessee\",\"279504\",\"29850\",\"9652\",\"47\",\"09\"],\n",
        "[\"Congressional District 5 (116th Congress), Tennessee\",\"348817\",\"23202\",\"31198\",\"47\",\"05\"],\n",
        "[\"Congressional District 6 (116th Congress), Tennessee\",\"322047\",\"18630\",\"14769\",\"47\",\"06\"],\n",
        "[\"Congressional District 7 (116th Congress), Tennessee\",\"312762\",\"15464\",\"30771\",\"47\",\"07\"],\n",
        "[\"Congressional District 6 (116th Congress), South Carolina\",\"257478\",\"31656\",\"9172\",\"45\",\"06\"],\n",
        "[\"Congressional District 3 (116th Congress), South Carolina\",\"279642\",\"18726\",\"11105\",\"45\",\"03\"],\n",
        "[\"Congressional District 1 (116th Congress), Utah\",\"267358\",\"12789\",\"25776\",\"49\",\"01\"],\n",
        "[\"Congressional District (at Large) (116th Congress), South Dakota\",\"356887\",\"17158\",\"20292\",\"46\",\"00\"],\n",
        "[\"Congressional District 8 (116th Congress), Texas\",\"334410\",\"18661\",\"45728\",\"48\",\"08\"],\n",
        "[\"Congressional District 9 (116th Congress), Texas\",\"288665\",\"25143\",\"9156\",\"48\",\"09\"],\n",
        "[\"Congressional District 8 (116th Congress), Virginia\",\"324687\",\"13261\",\"81900\",\"51\",\"08\"],\n",
        "[\"Congressional District 9 (116th Congress), Virginia\",\"284060\",\"26006\",\"8057\",\"51\",\"09\"],\n",
        "[\"Congressional District 10 (116th Congress), Virginia\",\"300190\",\"6631\",\"93838\",\"51\",\"10\"],\n",
        "[\"Congressional District 1 (116th Congress), Virginia\",\"297988\",\"11861\",\"45205\",\"51\",\"01\"],\n",
        "[\"Congressional District 7 (116th Congress), Washington\",\"373393\",\"18604\",\"94098\",\"53\",\"07\"],\n",
        "[\"Congressional District 8 (116th Congress), Washington\",\"284410\",\"10080\",\"53806\",\"53\",\"08\"],\n",
        "[\"Congressional District 9 (116th Congress), Washington\",\"296031\",\"15217\",\"57319\",\"53\",\"09\"],\n",
        "[\"Congressional District 1 (116th Congress), Washington\",\"298959\",\"10706\",\"71479\",\"53\",\"01\"],\n",
        "[\"Congressional District 5 (116th Congress), Washington\",\"301159\",\"17383\",\"17101\",\"53\",\"05\"],\n",
        "[\"Congressional District 21 (116th Congress), Texas\",\"372831\",\"19725\",\"48193\",\"48\",\"21\"],\n",
        "[\"Congressional District 23 (116th Congress), Texas\",\"285043\",\"16412\",\"20253\",\"48\",\"23\"],\n",
        "[\"Congressional District 25 (116th Congress), Texas\",\"322257\",\"14827\",\"45578\",\"48\",\"25\"],\n",
        "[\"Congressional District 27 (116th Congress), Texas\",\"284443\",\"19082\",\"15221\",\"48\",\"27\"],\n",
        "[\"Congressional District 29 (116th Congress), Texas\",\"227558\",\"16605\",\"5531\",\"48\",\"29\"],\n",
        "[\"Congressional District 30 (116th Congress), Texas\",\"286752\",\"22523\",\"11614\",\"48\",\"30\"],\n",
        "[\"Congressional District 32 (116th Congress), Texas\",\"305599\",\"17093\",\"46374\",\"48\",\"32\"],\n",
        "[\"Congressional District 33 (116th Congress), Texas\",\"236861\",\"18353\",\"6457\",\"48\",\"33\"],\n",
        "[\"Congressional District 35 (116th Congress), Texas\",\"317342\",\"24389\",\"13808\",\"48\",\"35\"],\n",
        "[\"Congressional District 1 (116th Congress), Texas\",\"264420\",\"18491\",\"13794\",\"48\",\"01\"],\n",
        "[\"Congressional District 3 (116th Congress), Wisconsin\",\"296985\",\"14460\",\"12804\",\"55\",\"03\"],\n",
        "[\"Congressional District 1 (116th Congress), South Carolina\",\"324758\",\"17028\",\"33813\",\"45\",\"01\"],\n",
        "[\"Congressional District 5 (116th Congress), Wisconsin\",\"310413\",\"11268\",\"29305\",\"55\",\"05\"],\n",
        "[\"Congressional District 1 (116th Congress), Wisconsin\",\"291574\",\"12386\",\"23004\",\"55\",\"01\"],\n",
        "[\"Congressional District (at Large) (116th Congress), Wyoming\",\"242763\",\"14659\",\"14179\",\"56\",\"00\"],\n",
        "[\"Congressional District (at Large) (116th Congress), Alaska\",\"271311\",\"14625\",\"27700\",\"02\",\"00\"],\n",
        "[\"Congressional District 2 (116th Congress), Connecticut\",\"282851\",\"12379\",\"33043\",\"09\",\"02\"],\n",
        "[\"Congressional District 2 (116th Congress), Alabama\",\"267988\",\"22053\",\"10659\",\"01\",\"02\"],\n",
        "[\"Congressional District 7 (116th Congress), Alabama\",\"265421\",\"29736\",\"8180\",\"01\",\"07\"],\n",
        "[\"Congressional District 4 (116th Congress), Connecticut\",\"278120\",\"14613\",\"71746\",\"09\",\"04\"],\n",
        "[\"Congressional District 4 (116th Congress), Alabama\",\"265042\",\"19087\",\"10066\",\"01\",\"04\"],\n",
        "[\"Congressional District 5 (116th Congress), Connecticut\",\"286232\",\"14241\",\"41239\",\"09\",\"05\"],\n",
        "[\"Congressional District 5 (116th Congress), Alabama\",\"312227\",\"18511\",\"24457\",\"01\",\"05\"],\n",
        "[\"Congressional District 1 (116th Congress), Connecticut\",\"291567\",\"16156\",\"31953\",\"09\",\"01\"],\n",
        "[\"Congressional District 6 (116th Congress), Alabama\",\"283340\",\"14339\",\"26705\",\"01\",\"06\"],\n",
        "[\"Congressional District 3 (116th Congress), Connecticut\",\"289543\",\"17184\",\"30214\",\"09\",\"03\"],\n",
        "[\"Congressional District 1 (116th Congress), Alabama\",\"287768\",\"22411\",\"12033\",\"01\",\"01\"],\n",
        "[\"Congressional District 3 (116th Congress), Alabama\",\"285773\",\"26313\",\"9731\",\"01\",\"03\"],\n",
        "[\"Congressional District 4 (116th Congress), Arkansas\",\"267232\",\"21896\",\"7245\",\"05\",\"04\"],\n",
        "[\"Congressional District 3 (116th Congress), Arkansas\",\"323384\",\"18617\",\"22106\",\"05\",\"03\"],\n",
        "[\"Congressional District 2 (116th Congress), Arizona\",\"321286\",\"20104\",\"19549\",\"04\",\"02\"],\n",
        "[\"Congressional District 4 (116th Congress), California\",\"303443\",\"11957\",\"49244\",\"06\",\"04\"],\n",
        "[\"Congressional District 5 (116th Congress), California\",\"269118\",\"13751\",\"36997\",\"06\",\"05\"],\n",
        "[\"Congressional District 6 (116th Congress), California\",\"294556\",\"18836\",\"24112\",\"06\",\"06\"],\n",
        "[\"Congressional District 8 (116th Congress), California\",\"246866\",\"14106\",\"14245\",\"06\",\"08\"],\n",
        "[\"Congressional District 9 (116th Congress), California\",\"250217\",\"12288\",\"29533\",\"06\",\"09\"],\n",
        "[\"Congressional District (at Large) (116th Congress), Delaware\",\"395656\",\"20504\",\"33025\",\"10\",\"00\"],\n",
        "[\"Congressional District 11 (116th Congress), California\",\"276718\",\"12712\",\"66864\",\"06\",\"11\"],\n",
        "[\"Congressional District 13 (116th Congress), California\",\"295012\",\"16375\",\"62158\",\"06\",\"13\"],\n",
        "[\"Congressional District 3 (116th Congress), Arizona\",\"262352\",\"19475\",\"9024\",\"04\",\"03\"],\n",
        "[\"Congressional District 16 (116th Congress), California\",\"222784\",\"21087\",\"10310\",\"06\",\"16\"],\n",
        "[\"Congressional District 6 (116th Congress), Arizona\",\"340629\",\"16492\",\"52681\",\"04\",\"06\"],\n",
        "[\"Congressional District 2 (116th Congress), Florida\",\"294566\",\"17176\",\"15326\",\"12\",\"02\"],\n",
        "[\"Congressional District 18 (116th Congress), California\",\"267617\",\"6547\",\"111988\",\"06\",\"18\"],\n",
        "[\"Congressional District 8 (116th Congress), Arizona\",\"326386\",\"11046\",\"28536\",\"04\",\"08\"],\n",
        "[\"Congressional District 1 (116th Congress), Arizona\",\"286435\",\"23951\",\"17394\",\"04\",\"01\"],\n",
        "[\"Congressional District 7 (116th Congress), Colorado\",\"314782\",\"13193\",\"31147\",\"08\",\"07\"],\n",
        "[\"Congressional District 21 (116th Congress), California\",\"193493\",\"13571\",\"5792\",\"06\",\"21\"],\n",
        "[\"Congressional District 4 (116th Congress), Colorado\",\"335600\",\"13655\",\"43306\",\"08\",\"04\"],\n",
        "[\"Congressional District 5 (116th Congress), Colorado\",\"325137\",\"12686\",\"28288\",\"08\",\"05\"],\n",
        "[\"Congressional District 6 (116th Congress), Colorado\",\"309933\",\"12635\",\"42946\",\"08\",\"06\"],\n",
        "[\"Congressional District 1 (116th Congress), Colorado\",\"377896\",\"21584\",\"51810\",\"08\",\"01\"],\n",
        "[\"Congressional District 25 (116th Congress), California\",\"231829\",\"12955\",\"33979\",\"06\",\"25\"],\n",
        "[\"Congressional District 26 (116th Congress), California\",\"235156\",\"7802\",\"36545\",\"06\",\"26\"],\n",
        "[\"Congressional District 28 (116th Congress), California\",\"298062\",\"19183\",\"45616\",\"06\",\"28\"],\n",
        "[\"Congressional District 3 (116th Congress), Florida\",\"289655\",\"20644\",\"18691\",\"12\",\"03\"],\n",
        "[\"Congressional District 4 (116th Congress), Florida\",\"362781\",\"16073\",\"42551\",\"12\",\"04\"],\n",
        "[\"Congressional District 31 (116th Congress), California\",\"236464\",\"13495\",\"18283\",\"06\",\"31\"],\n",
        "[\"Congressional District 32 (116th Congress), California\",\"200358\",\"7997\",\"18837\",\"06\",\"32\"],\n",
        "[\"Congressional District 33 (116th Congress), California\",\"293071\",\"17291\",\"84273\",\"06\",\"33\"],\n",
        "[\"Congressional District 34 (116th Congress), California\",\"260864\",\"25067\",\"17126\",\"06\",\"34\"],\n",
        "[\"Congressional District 8 (116th Congress), Florida\",\"329533\",\"18074\",\"23056\",\"12\",\"08\"],\n",
        "[\"Congressional District 9 (116th Congress), Florida\",\"345376\",\"20609\",\"20377\",\"12\",\"09\"],\n",
        "[\"Congressional District 37 (116th Congress), California\",\"272429\",\"19928\",\"39011\",\"06\",\"37\"],\n",
        "[\"Congressional District 38 (116th Congress), California\",\"205188\",\"9894\",\"22990\",\"06\",\"38\"],\n",
        "[\"Congressional District 39 (116th Congress), California\",\"237077\",\"11681\",\"42447\",\"06\",\"39\"],\n",
        "[\"Congressional District 40 (116th Congress), California\",\"183319\",\"11652\",\"8364\",\"06\",\"40\"],\n",
        "[\"Congressional District 41 (116th Congress), California\",\"204250\",\"8063\",\"14556\",\"06\",\"41\"],\n",
        "[\"Congressional District 14 (116th Congress), Florida\",\"327617\",\"27961\",\"33800\",\"12\",\"14\"],\n",
        "[\"Congressional District 43 (116th Congress), California\",\"246946\",\"16010\",\"21816\",\"06\",\"43\"],\n",
        "[\"Congressional District 44 (116th Congress), California\",\"199763\",\"13269\",\"11613\",\"06\",\"44\"],\n",
        "[\"Congressional District 16 (116th Congress), Florida\",\"364469\",\"16171\",\"34109\",\"12\",\"16\"],\n",
        "[\"Congressional District 45 (116th Congress), California\",\"292032\",\"15237\",\"69881\",\"06\",\"45\"],\n",
        "[\"Congressional District 9 (116th Congress), Arizona\",\"332701\",\"17130\",\"31435\",\"04\",\"09\"],\n",
        "[\"Congressional District 17 (116th Congress), Florida\",\"340270\",\"20477\",\"16655\",\"12\",\"17\"],\n",
        "[\"Congressional District 18 (116th Congress), Florida\",\"329847\",\"16245\",\"33139\",\"12\",\"18\"],\n",
        "[\"Congressional District 46 (116th Congress), California\",\"195442\",\"11030\",\"18759\",\"06\",\"46\"],\n",
        "[\"Congressional District 19 (116th Congress), Florida\",\"365873\",\"21299\",\"39906\",\"12\",\"19\"],\n",
        "[\"Congressional District 47 (116th Congress), California\",\"250650\",\"15906\",\"28439\",\"06\",\"47\"],\n",
        "[\"Congressional District 20 (116th Congress), Florida\",\"267141\",\"19212\",\"10925\",\"12\",\"20\"],\n",
        "[\"Congressional District 48 (116th Congress), California\",\"277242\",\"10927\",\"59653\",\"06\",\"48\"],\n",
        "[\"Congressional District 21 (116th Congress), Florida\",\"315854\",\"17370\",\"34276\",\"12\",\"21\"],\n",
        "[\"Congressional District 49 (116th Congress), California\",\"261145\",\"9779\",\"60209\",\"06\",\"49\"],\n",
        "[\"Congressional District 22 (116th Congress), Florida\",\"335695\",\"21168\",\"37864\",\"12\",\"22\"],\n",
        "[\"Congressional District 50 (116th Congress), California\",\"255153\",\"14782\",\"31594\",\"06\",\"50\"],\n",
        "[\"Congressional District 23 (116th Congress), Florida\",\"294641\",\"22462\",\"36457\",\"12\",\"23\"],\n",
        "[\"Congressional District 24 (116th Congress), Florida\",\"263198\",\"26219\",\"12314\",\"12\",\"24\"],\n",
        "[\"Congressional District 52 (116th Congress), California\",\"302301\",\"14345\",\"67087\",\"06\",\"52\"],\n",
        "[\"Congressional District 53 (116th Congress), California\",\"282612\",\"12367\",\"34024\",\"06\",\"53\"],\n",
        "[\"Congressional District 1 (116th Congress), California\",\"273582\",\"16833\",\"19080\",\"06\",\"01\"],\n",
        "[\"Congressional District 2 (116th Congress), Idaho\",\"326702\",\"11974\",\"21390\",\"16\",\"02\"],\n",
        "[\"Congressional District 1 (116th Congress), Idaho\",\"367180\",\"18981\",\"23957\",\"16\",\"01\"],\n",
        "[\"Congressional District 1 (116th Congress), Hawaii\",\"253890\",\"12962\",\"35143\",\"15\",\"01\"],\n",
        "[\"Congressional District 2 (116th Congress), Kentucky\",\"300863\",\"21761\",\"12523\",\"21\",\"02\"],\n",
        "[\"Congressional District 4 (116th Congress), Kentucky\",\"298625\",\"15880\",\"26098\",\"21\",\"04\"],\n",
        "[\"Congressional District 2 (116th Congress), Georgia\",\"250683\",\"26533\",\"8213\",\"13\",\"02\"],\n",
        "[\"Congressional District 3 (116th Congress), Illinois\",\"261388\",\"11560\",\"26991\",\"17\",\"03\"],\n",
        "[\"Congressional District 2 (116th Congress), Louisiana\",\"305215\",\"38890\",\"11669\",\"22\",\"02\"],\n",
        "[\"Congressional District 6 (116th Congress), Louisiana\",\"315472\",\"21579\",\"26553\",\"22\",\"06\"],\n",
        "[\"Congressional District 2 (116th Congress), Indiana\",\"273019\",\"15479\",\"14477\",\"18\",\"02\"],\n",
        "[\"Congressional District 7 (116th Congress), Illinois\",\"332151\",\"35699\",\"46388\",\"17\",\"07\"],\n",
        "[\"Congressional District 3 (116th Congress), Indiana\",\"299447\",\"14905\",\"12819\",\"18\",\"03\"],\n",
        "[\"Congressional District 8 (116th Congress), Illinois\",\"259210\",\"11251\",\"20308\",\"17\",\"08\"],\n",
        "[\"Congressional District 2 (116th Congress), Maine\",\"286944\",\"17701\",\"11539\",\"23\",\"02\"],\n",
        "[\"Congressional District 4 (116th Congress), Kansas\",\"283162\",\"16105\",\"12414\",\"20\",\"04\"],\n",
        "[\"Congressional District 9 (116th Congress), Illinois\",\"304601\",\"20597\",\"48724\",\"17\",\"09\"],\n",
        "[\"Congressional District 5 (116th Congress), Indiana\",\"326875\",\"13618\",\"41515\",\"18\",\"05\"],\n",
        "[\"Congressional District 4 (116th Congress), Iowa\",\"312182\",\"17104\",\"14549\",\"19\",\"04\"],\n",
        "[\"Congressional District 10 (116th Congress), Illinois\",\"258705\",\"11892\",\"44806\",\"17\",\"10\"],\n",
        "[\"Congressional District 6 (116th Congress), Indiana\",\"289481\",\"14724\",\"11597\",\"18\",\"06\"],\n",
        "[\"Congressional District 2 (116th Congress), Kansas\",\"286978\",\"19573\",\"12802\",\"20\",\"02\"],\n",
        "[\"Congressional District 12 (116th Congress), Illinois\",\"271766\",\"18864\",\"10519\",\"17\",\"12\"],\n",
        "[\"Congressional District 4 (116th Congress), Georgia\",\"264605\",\"13283\",\"17333\",\"13\",\"04\"],\n",
        "[\"Congressional District 8 (116th Congress), Indiana\",\"293935\",\"17331\",\"12091\",\"18\",\"08\"],\n",
        "[\"Congressional District 5 (116th Congress), Georgia\",\"344324\",\"26686\",\"38070\",\"13\",\"05\"],\n",
        "[\"Congressional District 1 (116th Congress), Indiana\",\"283879\",\"16999\",\"15836\",\"18\",\"01\"],\n",
        "[\"Congressional District 15 (116th Congress), Illinois\",\"272781\",\"15313\",\"10803\",\"17\",\"15\"],\n",
        "[\"Congressional District 4 (116th Congress), Indiana\",\"300397\",\"16813\",\"15347\",\"18\",\"04\"],\n",
        "[\"Congressional District 8 (116th Congress), Georgia\",\"265796\",\"25979\",\"11548\",\"13\",\"08\"],\n",
        "[\"Congressional District 9 (116th Congress), Georgia\",\"292749\",\"14885\",\"19833\",\"13\",\"09\"],\n",
        "[\"Congressional District 18 (116th Congress), Illinois\",\"295835\",\"14514\",\"20173\",\"17\",\"18\"],\n",
        "[\"Congressional District 3 (116th Congress), Iowa\",\"352077\",\"15205\",\"28353\",\"19\",\"03\"],\n",
        "[\"Congressional District 12 (116th Congress), Georgia\",\"261285\",\"23781\",\"13439\",\"13\",\"12\"],\n",
        "[\"Congressional District 13 (116th Congress), Georgia\",\"291047\",\"16636\",\"20661\",\"13\",\"13\"],\n",
        "[\"Congressional District 14 (116th Congress), Georgia\",\"264202\",\"13474\",\"12409\",\"13\",\"14\"],\n",
        "[\"Congressional District 2 (116th Congress), Massachusetts\",\"299526\",\"16295\",\"36446\",\"25\",\"02\"],\n",
        "[\"Congressional District 3 (116th Congress), Massachusetts\",\"299843\",\"15509\",\"43887\",\"25\",\"03\"],\n",
        "[\"Congressional District 1 (116th Congress), Kentucky\",\"281733\",\"24565\",\"8879\",\"21\",\"01\"],\n",
        "[\"Congressional District 9 (116th Congress), Massachusetts\",\"326682\",\"16292\",\"44558\",\"25\",\"09\"],\n",
        "[\"Congressional District 5 (116th Congress), Massachusetts\",\"306305\",\"12882\",\"79435\",\"25\",\"05\"],\n",
        "[\"Congressional District 6 (116th Congress), Massachusetts\",\"304882\",\"13169\",\"60012\",\"25\",\"06\"],\n",
        "[\"Congressional District 7 (116th Congress), Massachusetts\",\"312412\",\"29565\",\"47030\",\"25\",\"07\"],\n",
        "[\"Congressional District 8 (116th Congress), Massachusetts\",\"320679\",\"16257\",\"66091\",\"25\",\"08\"],\n",
        "[\"Congressional District 1 (116th Congress), Massachusetts\",\"297314\",\"18671\",\"24623\",\"25\",\"01\"],\n",
        "[\"Congressional District 4 (116th Congress), Massachusetts\",\"291375\",\"10366\",\"70222\",\"25\",\"04\"],\n",
        "[\"Congressional District 2 (116th Congress), Minnesota\",\"279831\",\"7631\",\"36488\",\"27\",\"02\"],\n",
        "[\"Congressional District 3 (116th Congress), Minnesota\",\"291538\",\"7724\",\"52740\",\"27\",\"03\"],\n",
        "[\"Congressional District 8 (116th Congress), Minnesota\",\"280586\",\"14866\",\"14582\",\"27\",\"08\"],\n",
        "[\"Congressional District 5 (116th Congress), Minnesota\",\"315240\",\"17491\",\"30291\",\"27\",\"05\"],\n",
        "[\"Congressional District 6 (116th Congress), Minnesota\",\"274177\",\"8100\",\"25924\",\"27\",\"06\"],\n",
        "[\"Congressional District 7 (116th Congress), Minnesota\",\"276251\",\"14470\",\"14083\",\"27\",\"07\"],\n",
        "[\"Congressional District 1 (116th Congress), Minnesota\",\"277369\",\"12639\",\"19809\",\"27\",\"01\"],\n",
        "[\"Congressional District 4 (116th Congress), Minnesota\",\"286041\",\"13730\",\"32986\",\"27\",\"04\"],\n",
        "[\"Congressional District 3 (116th Congress), Maryland\",\"303646\",\"12640\",\"52670\",\"24\",\"03\"],\n",
        "[\"Congressional District 5 (116th Congress), Maryland\",\"282435\",\"11946\",\"52139\",\"24\",\"05\"],\n",
        "[\"Congressional District 7 (116th Congress), Maryland\",\"290076\",\"25524\",\"35783\",\"24\",\"07\"],\n",
        "[\"Congressional District 1 (116th Congress), Maryland\",\"286811\",\"14158\",\"32278\",\"24\",\"01\"],\n",
        "[\"Congressional District 2 (116th Congress), Missouri\",\"309482\",\"10591\",\"49075\",\"29\",\"02\"],\n",
        "[\"Congressional District 8 (116th Congress), Missouri\",\"278880\",\"20512\",\"9070\",\"29\",\"08\"],\n",
        "[\"Congressional District 5 (116th Congress), Missouri\",\"333920\",\"19884\",\"15619\",\"29\",\"05\"],\n",
        "[\"Congressional District 3 (116th Congress), Michigan\",\"289969\",\"14688\",\"21742\",\"26\",\"03\"],\n",
        "[\"Congressional District 4 (116th Congress), Michigan\",\"283353\",\"16714\",\"12068\",\"26\",\"04\"],\n",
        "[\"Congressional District 1 (116th Congress), Missouri\",\"315261\",\"31507\",\"14034\",\"29\",\"01\"],\n",
        "[\"Congressional District 4 (116th Congress), Missouri\",\"301330\",\"16836\",\"13514\",\"29\",\"04\"],\n",
        "[\"Congressional District 7 (116th Congress), Michigan\",\"279665\",\"12852\",\"18091\",\"26\",\"07\"],\n",
        "[\"Congressional District 9 (116th Congress), Michigan\",\"309101\",\"17483\",\"23249\",\"26\",\"09\"],\n",
        "[\"Congressional District 11 (116th Congress), Michigan\",\"306144\",\"10653\",\"48492\",\"26\",\"11\"],\n",
        "[\"Congressional District 12 (116th Congress), Michigan\",\"293657\",\"19741\",\"22357\",\"26\",\"12\"],\n",
        "[\"Congressional District 13 (116th Congress), Michigan\",\"264634\",\"33388\",\"5423\",\"26\",\"13\"],\n",
        "[\"Congressional District (at Large) (116th Congress), Montana\",\"448949\",\"23195\",\"30784\",\"30\",\"00\"],\n",
        "[\"Congressional District 1 (116th Congress), Mississippi\",\"295565\",\"23757\",\"10341\",\"28\",\"01\"],\n",
        "[\"Congressional District 2 (116th Congress), Mississippi\",\"248688\",\"31102\",\"6409\",\"28\",\"02\"],\n",
        "[\"Congressional District 1 (116th Congress), Nevada\",\"260719\",\"29104\",\"8437\",\"32\",\"01\"],\n",
        "[\"Congressional District 2 (116th Congress), Nevada\",\"303611\",\"17845\",\"25153\",\"32\",\"02\"],\n",
        "[\"Congressional District 2 (116th Congress), Nebraska\",\"280714\",\"15858\",\"28488\",\"31\",\"02\"],\n",
        "[\"Congressional District 3 (116th Congress), Nebraska\",\"242164\",\"12861\",\"8862\",\"31\",\"03\"],\n",
        "[\"Congressional District 2 (116th Congress), New Mexico\",\"267215\",\"28334\",\"10032\",\"35\",\"02\"],\n",
        "[\"Congressional District 1 (116th Congress), New Mexico\",\"295010\",\"23665\",\"21627\",\"35\",\"01\"],\n",
        "[\"Congressional District 2 (116th Congress), New Jersey\",\"296210\",\"14741\",\"29168\",\"34\",\"02\"],\n",
        "[\"Congressional District 4 (116th Congress), New Jersey\",\"295511\",\"13417\",\"52029\",\"34\",\"04\"],\n",
        "[\"Congressional District 12 (116th Congress), New Jersey\",\"287497\",\"11940\",\"54801\",\"34\",\"12\"],\n",
        "[\"Congressional District 8 (116th Congress), New Jersey\",\"323028\",\"22704\",\"43720\",\"34\",\"08\"],\n",
        "[\"Congressional District 10 (116th Congress), New Jersey\",\"306975\",\"25849\",\"26272\",\"34\",\"10\"],\n",
        "[\"Congressional District 11 (116th Congress), New Jersey\",\"285434\",\"8102\",\"80119\",\"34\",\"11\"],\n",
        "[\"Congressional District 6 (116th Congress), New Jersey\",\"274155\",\"11261\",\"45967\",\"34\",\"06\"],\n",
        "[\"Congressional District 3 (116th Congress), Ohio\",\"328314\",\"23182\",\"10553\",\"39\",\"03\"],\n",
        "[\"Congressional District 5 (116th Congress), Ohio\",\"299702\",\"15072\",\"18277\",\"39\",\"05\"],\n",
        "[\"Congressional District 7 (116th Congress), Ohio\",\"291104\",\"13415\",\"15326\",\"39\",\"07\"],\n",
        "[\"Congressional District 9 (116th Congress), Ohio\",\"315896\",\"27062\",\"12250\",\"39\",\"09\"],\n",
        "[\"Congressional District 11 (116th Congress), Ohio\",\"303334\",\"41929\",\"16238\",\"39\",\"11\"],\n",
        "[\"Congressional District 13 (116th Congress), Ohio\",\"302253\",\"26387\",\"8924\",\"39\",\"13\"],\n",
        "[\"Congressional District 14 (116th Congress), Ohio\",\"295867\",\"10586\",\"31294\",\"39\",\"14\"],\n",
        "[\"Congressional District 16 (116th Congress), Ohio\",\"301814\",\"9438\",\"23978\",\"39\",\"16\"],\n",
        "[\"Congressional District (at Large) (116th Congress), North Dakota\",\"322511\",\"18213\",\"19407\",\"38\",\"00\"],\n",
        "[\"Congressional District 3 (116th Congress), Oklahoma\",\"295295\",\"18105\",\"11910\",\"40\",\"03\"],\n",
        "[\"Congressional District 4 (116th Congress), Oklahoma\",\"308728\",\"17995\",\"14482\",\"40\",\"04\"],\n",
        "[\"Congressional District 1 (116th Congress), Oklahoma\",\"331149\",\"24008\",\"21883\",\"40\",\"01\"],\n",
        "[\"Congressional District 2 (116th Congress), Oklahoma\",\"278876\",\"22289\",\"7987\",\"40\",\"02\"],\n",
        "[\"Congressional District 2 (116th Congress), North Carolina\",\"343182\",\"16369\",\"38513\",\"37\",\"02\"],\n",
        "[\"Congressional District 3 (116th Congress), North Carolina\",\"305348\",\"19953\",\"15447\",\"37\",\"03\"],\n",
        "[\"Congressional District 4 (116th Congress), North Carolina\",\"354358\",\"20125\",\"49343\",\"37\",\"04\"],\n",
        "[\"Congressional District 5 (116th Congress), North Carolina\",\"310913\",\"22507\",\"15604\",\"37\",\"05\"],\n",
        "[\"Congressional District 13 (116th Congress), North Carolina\",\"316388\",\"20551\",\"18551\",\"37\",\"13\"],\n",
        "[\"Congressional District 2 (116th Congress), New York\",\"230678\",\"7523\",\"51930\",\"36\",\"02\"],\n",
        "[\"Congressional District 7 (116th Congress), North Carolina\",\"331215\",\"21934\",\"18947\",\"37\",\"07\"],\n",
        "[\"Congressional District 3 (116th Congress), New York\",\"258440\",\"10974\",\"78438\",\"36\",\"03\"],\n",
        "[\"Congressional District 4 (116th Congress), New York\",\"243792\",\"7509\",\"59881\",\"36\",\"04\"],\n",
        "[\"Congressional District 8 (116th Congress), North Carolina\",\"304934\",\"17556\",\"17484\",\"37\",\"08\"],\n",
        "[\"Congressional District 5 (116th Congress), New York\",\"243283\",\"18579\",\"24186\",\"36\",\"05\"],\n",
        "[\"Congressional District 6 (116th Congress), New York\",\"280033\",\"21103\",\"29214\",\"36\",\"06\"],\n",
        "[\"Congressional District 7 (116th Congress), New York\",\"256140\",\"23581\",\"38026\",\"36\",\"07\"],\n",
        "[\"Congressional District 11 (116th Congress), North Carolina\",\"318745\",\"19450\",\"14519\",\"37\",\"11\"],\n",
        "[\"Congressional District 12 (116th Congress), North Carolina\",\"372786\",\"19567\",\"34910\",\"37\",\"12\"],\n",
        "[\"Congressional District 1 (116th Congress), North Carolina\",\"301189\",\"29583\",\"15579\",\"37\",\"01\"],\n",
        "[\"Congressional District 6 (116th Congress), North Carolina\",\"316714\",\"20365\",\"19314\",\"37\",\"06\"],\n",
        "[\"Congressional District 12 (116th Congress), New York\",\"359401\",\"24043\",\"101252\",\"36\",\"12\"],\n",
        "[\"Congressional District 14 (116th Congress), New York\",\"255208\",\"18711\",\"14623\",\"36\",\"14\"],\n",
        "[\"Congressional District 15 (116th Congress), New York\",\"266512\",\"44929\",\"7328\",\"36\",\"15\"],\n",
        "[\"Congressional District 2 (116th Congress), Pennsylvania\",\"276862\",\"27856\",\"13151\",\"42\",\"02\"],\n",
        "[\"Congressional District 2 (116th Congress), Rhode Island\",\"219376\",\"11062\",\"24170\",\"44\",\"02\"],\n",
        "[\"Congressional District 18 (116th Congress), New York\",\"270563\",\"13066\",\"44298\",\"36\",\"18\"],\n",
        "[\"Congressional District 4 (116th Congress), Pennsylvania\",\"295800\",\"11471\",\"54466\",\"42\",\"04\"],\n",
        "[\"Congressional District 19 (116th Congress), New York\",\"280501\",\"16071\",\"28246\",\"36\",\"19\"],\n",
        "[\"Congressional District 5 (116th Congress), Pennsylvania\",\"280455\",\"18250\",\"37930\",\"42\",\"05\"],\n",
        "[\"Congressional District 21 (116th Congress), New York\",\"295835\",\"13981\",\"12575\",\"36\",\"21\"],\n",
        "[\"Congressional District 22 (116th Congress), New York\",\"285277\",\"15830\",\"15063\",\"36\",\"22\"],\n",
        "[\"Congressional District 7 (116th Congress), Pennsylvania\",\"292311\",\"11601\",\"25320\",\"42\",\"07\"],\n",
        "[\"Congressional District 4 (116th Congress), Oregon\",\"341572\",\"21417\",\"17902\",\"41\",\"04\"],\n",
        "[\"Congressional District 24 (116th Congress), New York\",\"298216\",\"20090\",\"18782\",\"36\",\"24\"],\n",
        "[\"Congressional District 25 (116th Congress), New York\",\"307754\",\"18622\",\"22194\",\"36\",\"25\"],\n",
        "[\"Congressional District 26 (116th Congress), New York\",\"325256\",\"26852\",\"16519\",\"36\",\"26\"],\n",
        "[\"Congressional District 1 (116th Congress), New York\",\"261096\",\"10539\",\"52194\",\"36\",\"01\"],\n",
        "[\"Congressional District 9 (116th Congress), Pennsylvania\",\"280673\",\"15776\",\"17538\",\"42\",\"09\"],\n",
        "[\"Congressional District 11 (116th Congress), Pennsylvania\",\"287622\",\"10871\",\"22344\",\"42\",\"11\"],\n",
        "[\"Congressional District 12 (116th Congress), Pennsylvania\",\"264141\",\"13350\",\"12918\",\"42\",\"12\"],\n",
        "[\"Congressional District 14 (116th Congress), Pennsylvania\",\"295696\",\"17768\",\"17854\",\"42\",\"14\"],\n",
        "[\"Congressional District 16 (116th Congress), Pennsylvania\",\"284089\",\"17308\",\"15382\",\"42\",\"16\"],\n",
        "[\"Congressional District 18 (116th Congress), Pennsylvania\",\"313609\",\"26360\",\"22543\",\"42\",\"18\"],\n",
        "[\"Congressional District 1 (116th Congress), Pennsylvania\",\"281693\",\"10328\",\"47944\",\"42\",\"01\"],\n",
        "[\"Congressional District 3 (116th Congress), Tennessee\",\"301705\",\"20994\",\"16739\",\"47\",\"03\"],\n",
        "[\"Congressional District 2 (116th Congress), South Carolina\",\"290550\",\"18282\",\"17714\",\"45\",\"02\"],\n",
        "[\"Congressional District 7 (116th Congress), South Carolina\",\"293743\",\"23153\",\"12156\",\"45\",\"07\"],\n",
        "[\"Congressional District 4 (116th Congress), South Carolina\",\"307927\",\"17764\",\"22189\",\"45\",\"04\"],\n",
        "[\"Congressional District 5 (116th Congress), South Carolina\",\"295874\",\"18059\",\"16171\",\"45\",\"05\"],\n",
        "[\"Congressional District 8 (116th Congress), Tennessee\",\"275216\",\"16913\",\"24152\",\"47\",\"08\"],\n",
        "[\"Congressional District 1 (116th Congress), Tennessee\",\"295711\",\"23081\",\"12707\",\"47\",\"01\"],\n",
        "[\"Congressional District 4 (116th Congress), Tennessee\",\"315142\",\"16653\",\"15430\",\"47\",\"04\"],\n",
        "[\"Congressional District 4 (116th Congress), Utah\",\"290065\",\"9950\",\"26925\",\"49\",\"04\"],\n",
        "[\"Congressional District 3 (116th Congress), Utah\",\"252895\",\"11134\",\"33459\",\"49\",\"03\"],\n",
        "[\"Congressional District 2 (116th Congress), Utah\",\"291181\",\"13739\",\"21971\",\"49\",\"02\"],\n",
        "[\"Congressional District 2 (116th Congress), Texas\",\"309825\",\"15558\",\"41044\",\"48\",\"02\"],\n",
        "[\"Congressional District 2 (116th Congress), Washington\",\"306067\",\"15401\",\"32700\",\"53\",\"02\"],\n",
        "[\"Congressional District (at Large) (116th Congress), Vermont\",\"270163\",\"10992\",\"23553\",\"50\",\"00\"],\n",
        "[\"Congressional District 3 (116th Congress), Washington\",\"301455\",\"16239\",\"26591\",\"53\",\"03\"],\n",
        "[\"Congressional District 4 (116th Congress), Washington\",\"259928\",\"13115\",\"17996\",\"53\",\"04\"],\n",
        "[\"Congressional District 10 (116th Congress), Washington\",\"299904\",\"12403\",\"22132\",\"53\",\"10\"],\n",
        "[\"Congressional District 3 (116th Congress), Texas\",\"354540\",\"11851\",\"68188\",\"48\",\"03\"],\n",
        "[\"Congressional District 6 (116th Congress), Washington\",\"300949\",\"16407\",\"29467\",\"53\",\"06\"],\n",
        "[\"Congressional District 2 (116th Congress), Virginia\",\"295313\",\"12243\",\"26850\",\"51\",\"02\"],\n",
        "[\"Congressional District 4 (116th Congress), Texas\",\"298432\",\"17711\",\"21738\",\"48\",\"04\"],\n",
        "[\"Congressional District 5 (116th Congress), Texas\",\"280044\",\"15775\",\"15315\",\"48\",\"05\"],\n",
        "[\"Congressional District 3 (116th Congress), Virginia\",\"316733\",\"21022\",\"18379\",\"51\",\"03\"],\n",
        "[\"Congressional District 6 (116th Congress), Texas\",\"294641\",\"11316\",\"22611\",\"48\",\"06\"],\n",
        "[\"Congressional District 4 (116th Congress), Virginia\",\"309476\",\"23453\",\"21181\",\"51\",\"04\"],\n",
        "[\"Congressional District 7 (116th Congress), Texas\",\"321136\",\"15930\",\"47616\",\"48\",\"07\"],\n",
        "[\"Congressional District 11 (116th Congress), Virginia\",\"289494\",\"8776\",\"67931\",\"51\",\"11\"],\n",
        "[\"Congressional District 6 (116th Congress), Virginia\",\"302795\",\"18039\",\"15985\",\"51\",\"06\"],\n",
        "[\"Congressional District 7 (116th Congress), Virginia\",\"314081\",\"9477\",\"42207\",\"51\",\"07\"],\n",
        "[\"Congressional District 10 (116th Congress), Texas\",\"363804\",\"15893\",\"49427\",\"48\",\"10\"],\n",
        "[\"Congressional District 11 (116th Congress), Texas\",\"306078\",\"22560\",\"17689\",\"48\",\"11\"],\n",
        "[\"Congressional District 12 (116th Congress), Texas\",\"333132\",\"14372\",\"33730\",\"48\",\"12\"],\n",
        "[\"Congressional District 13 (116th Congress), Texas\",\"266619\",\"16613\",\"12595\",\"48\",\"13\"],\n",
        "[\"Congressional District 14 (116th Congress), Texas\",\"295642\",\"17602\",\"25353\",\"48\",\"14\"],\n",
        "[\"Congressional District 5 (116th Congress), Virginia\",\"296644\",\"16388\",\"24218\",\"51\",\"05\"],\n",
        "[\"Congressional District 15 (116th Congress), Texas\",\"258116\",\"21295\",\"10666\",\"48\",\"15\"],\n",
        "[\"Congressional District 16 (116th Congress), Texas\",\"263757\",\"22437\",\"12149\",\"48\",\"16\"],\n",
        "[\"Congressional District 17 (116th Congress), Texas\",\"316771\",\"23108\",\"19026\",\"48\",\"17\"],\n",
        "[\"Congressional District 18 (116th Congress), Texas\",\"295137\",\"29830\",\"20492\",\"48\",\"18\"],\n",
        "[\"Congressional District 19 (116th Congress), Texas\",\"281821\",\"20716\",\"13910\",\"48\",\"19\"],\n",
        "[\"Congressional District 20 (116th Congress), Texas\",\"285521\",\"21733\",\"11700\",\"48\",\"20\"],\n",
        "[\"Congressional District 22 (116th Congress), Texas\",\"342924\",\"13446\",\"55130\",\"48\",\"22\"],\n",
        "[\"Congressional District 24 (116th Congress), Texas\",\"335887\",\"14457\",\"44764\",\"48\",\"24\"],\n",
        "[\"Congressional District 26 (116th Congress), Texas\",\"347963\",\"11334\",\"56240\",\"48\",\"26\"],\n",
        "[\"Congressional District 28 (116th Congress), Texas\",\"245442\",\"21794\",\"12048\",\"48\",\"28\"],\n",
        "[\"Congressional District 2 (116th Congress), West Virginia\",\"248904\",\"16701\",\"11791\",\"54\",\"02\"],\n",
        "[\"Congressional District 31 (116th Congress), Texas\",\"365690\",\"13936\",\"37137\",\"48\",\"31\"],\n",
        "[\"Congressional District 3 (116th Congress), West Virginia\",\"227342\",\"26328\",\"6644\",\"54\",\"03\"],\n",
        "[\"Congressional District 1 (116th Congress), West Virginia\",\"245955\",\"17904\",\"13007\",\"54\",\"01\"],\n",
        "[\"Congressional District 34 (116th Congress), Texas\",\"230255\",\"22379\",\"5588\",\"48\",\"34\"],\n",
        "[\"Congressional District 36 (116th Congress), Texas\",\"276889\",\"14715\",\"20089\",\"48\",\"36\"],\n",
        "[\"Congressional District 2 (116th Congress), Wisconsin\",\"338310\",\"16373\",\"29994\",\"55\",\"02\"],\n",
        "[\"Congressional District 8 (116th Congress), Wisconsin\",\"311259\",\"13138\",\"17638\",\"55\",\"08\"],\n",
        "[\"Congressional District 6 (116th Congress), Wisconsin\",\"303251\",\"12333\",\"17590\",\"55\",\"06\"],\n",
        "[\"Congressional District 7 (116th Congress), Wisconsin\",\"313108\",\"13243\",\"16713\",\"55\",\"07\"],\n",
        "[\"Congressional District 4 (116th Congress), Wisconsin\",\"285070\",\"24346\",\"13429\",\"55\",\"04\"],\n",
        "[\"Resident Commissioner District (at Large) (116th Congress), Puerto Rico\",\"1165982\",\"286499\",\"15858\",\"72\",\"98\"],\n",
        "[\"Congressional District 2 (116th Congress), California\",\"283713\",\"13822\",\"54038\",\"06\",\"02\"],\n",
        "[\"Congressional District 3 (116th Congress), California\",\"260084\",\"16026\",\"25565\",\"06\",\"03\"],\n",
        "[\"Congressional District 1 (116th Congress), Arkansas\",\"273912\",\"24455\",\"9814\",\"05\",\"01\"],\n",
        "[\"Congressional District 2 (116th Congress), Arkansas\",\"319147\",\"24850\",\"16807\",\"05\",\"02\"],\n",
        "[\"Congressional District 7 (116th Congress), California\",\"277487\",\"11376\",\"36948\",\"06\",\"07\"],\n",
        "[\"Delegate District (at Large) (116th Congress), District of Columbia\",\"319565\",\"30677\",\"68951\",\"11\",\"98\"],\n",
        "[\"Congressional District 10 (116th Congress), California\",\"242542\",\"11119\",\"23382\",\"06\",\"10\"],\n",
        "[\"Congressional District 12 (116th Congress), California\",\"319041\",\"19299\",\"101520\",\"06\",\"12\"],\n",
        "[\"Congressional District 14 (116th Congress), California\",\"254999\",\"8844\",\"76604\",\"06\",\"14\"],\n",
        "[\"Congressional District 15 (116th Congress), California\",\"262584\",\"9399\",\"79757\",\"06\",\"15\"],\n",
        "[\"Congressional District 5 (116th Congress), Arizona\",\"331723\",\"10461\",\"43098\",\"04\",\"05\"],\n",
        "[\"Congressional District 17 (116th Congress), California\",\"270566\",\"11314\",\"103130\",\"06\",\"17\"],\n",
        "[\"Congressional District 7 (116th Congress), Arizona\",\"259443\",\"20336\",\"9321\",\"04\",\"07\"],\n",
        "[\"Congressional District 19 (116th Congress), California\",\"227519\",\"6976\",\"60589\",\"06\",\"19\"],\n",
        "[\"Congressional District 2 (116th Congress), Colorado\",\"338177\",\"16236\",\"54513\",\"08\",\"02\"],\n",
        "[\"Congressional District 20 (116th Congress), California\",\"238990\",\"8710\",\"36205\",\"06\",\"20\"],\n",
        "[\"Congressional District 4 (116th Congress), Arizona\",\"356768\",\"19405\",\"17613\",\"04\",\"04\"],\n",
        "[\"Congressional District 22 (116th Congress), California\",\"262225\",\"16413\",\"23008\",\"06\",\"22\"],\n",
        "[\"Congressional District 23 (116th Congress), California\",\"253591\",\"15902\",\"19257\",\"06\",\"23\"],\n",
        "[\"Congressional District 24 (116th Congress), California\",\"263262\",\"14258\",\"38559\",\"06\",\"24\"],\n",
        "[\"Congressional District 3 (116th Congress), Colorado\",\"311517\",\"20603\",\"25895\",\"08\",\"03\"],\n",
        "[\"Congressional District 27 (116th Congress), California\",\"245868\",\"14483\",\"39171\",\"06\",\"27\"],\n",
        "[\"Congressional District 29 (116th Congress), California\",\"215928\",\"16238\",\"14539\",\"06\",\"29\"],\n",
        "[\"Congressional District 30 (116th Congress), California\",\"288840\",\"19206\",\"50388\",\"06\",\"30\"],\n",
        "[\"Congressional District 5 (116th Congress), Florida\",\"294226\",\"32085\",\"8002\",\"12\",\"05\"],\n",
        "[\"Congressional District 6 (116th Congress), Florida\",\"343709\",\"21117\",\"15764\",\"12\",\"06\"],\n",
        "[\"Congressional District 7 (116th Congress), Florida\",\"315398\",\"16455\",\"29791\",\"12\",\"07\"],\n",
        "[\"Congressional District 35 (116th Congress), California\",\"209599\",\"8543\",\"15543\",\"06\",\"35\"],\n",
        "[\"Congressional District 36 (116th Congress), California\",\"282688\",\"17096\",\"22566\",\"06\",\"36\"],\n",
        "[\"Congressional District 10 (116th Congress), Florida\",\"299984\",\"21149\",\"26192\",\"12\",\"10\"],\n",
        "[\"Congressional District 11 (116th Congress), Florida\",\"368996\",\"23150\",\"12187\",\"12\",\"11\"],\n",
        "[\"Congressional District 12 (116th Congress), Florida\",\"337005\",\"20506\",\"25782\",\"12\",\"12\"],\n",
        "[\"Congressional District 13 (116th Congress), Florida\",\"317360\",\"22061\",\"23041\",\"12\",\"13\"],\n",
        "[\"Congressional District 42 (116th Congress), California\",\"250375\",\"6021\",\"35616\",\"06\",\"42\"],\n",
        "[\"Congressional District 15 (116th Congress), Florida\",\"310815\",\"16420\",\"16773\",\"12\",\"15\"],\n",
        "[\"Congressional District 51 (116th Congress), California\",\"204403\",\"13876\",\"10233\",\"06\",\"51\"],\n",
        "[\"Congressional District 25 (116th Congress), Florida\",\"267641\",\"14239\",\"17178\",\"12\",\"25\"],\n",
        "[\"Congressional District 26 (116th Congress), Florida\",\"262058\",\"15025\",\"17615\",\"12\",\"26\"],\n",
        "[\"Congressional District 27 (116th Congress), Florida\",\"299723\",\"21572\",\"40383\",\"12\",\"27\"],\n",
        "[\"Congressional District 1 (116th Congress), Florida\",\"321898\",\"17880\",\"21843\",\"12\",\"01\"],\n",
        "[\"Congressional District 2 (116th Congress), Hawaii\",\"236190\",\"13573\",\"29959\",\"15\",\"02\"],\n",
        "[\"Congressional District 3 (116th Congress), Louisiana\",\"291443\",\"24300\",\"14321\",\"22\",\"03\"],\n",
        "[\"Congressional District 1 (116th Congress), Maine\",\"306682\",\"14473\",\"28293\",\"23\",\"01\"],\n",
        "[\"Congressional District 3 (116th Congress), Kansas\",\"312454\",\"13185\",\"39449\",\"20\",\"03\"],\n",
        "[\"Congressional District 1 (116th Congress), Kansas\",\"276432\",\"16956\",\"10268\",\"20\",\"01\"],\n",
        "[\"Congressional District 11 (116th Congress), Illinois\",\"256496\",\"11536\",\"29454\",\"17\",\"11\"],\n",
        "[\"Congressional District 3 (116th Congress), Georgia\",\"285251\",\"15274\",\"20455\",\"13\",\"03\"],\n",
        "[\"Congressional District 7 (116th Congress), Indiana\",\"309675\",\"21005\",\"12101\",\"18\",\"07\"],\n",
        "[\"Congressional District 13 (116th Congress), Illinois\",\"282504\",\"27216\",\"14606\",\"17\",\"13\"],\n",
        "[\"Congressional District 14 (116th Congress), Illinois\",\"268840\",\"7293\",\"42537\",\"17\",\"14\"],\n",
        "[\"Congressional District 6 (116th Congress), Georgia\",\"299713\",\"10337\",\"65894\",\"13\",\"06\"],\n",
        "[\"Congressional District 7 (116th Congress), Georgia\",\"291644\",\"13641\",\"37022\",\"13\",\"07\"],\n",
        "[\"Congressional District 16 (116th Congress), Illinois\",\"275386\",\"15385\",\"14705\",\"17\",\"16\"],\n",
        "[\"Congressional District 17 (116th Congress), Illinois\",\"284177\",\"23521\",\"8348\",\"17\",\"17\"],\n",
        "[\"Congressional District 10 (116th Congress), Georgia\",\"286947\",\"17577\",\"18497\",\"13\",\"10\"],\n",
        "[\"Congressional District 11 (116th Congress), Georgia\",\"310593\",\"12225\",\"39431\",\"13\",\"11\"],\n",
        "[\"Congressional District 2 (116th Congress), Illinois\",\"259762\",\"28387\",\"9503\",\"17\",\"02\"],\n",
        "[\"Congressional District 6 (116th Congress), Kentucky\",\"321908\",\"24314\",\"17222\",\"21\",\"06\"],\n",
        "[\"Congressional District 5 (116th Congress), Kentucky\",\"261414\",\"36419\",\"5296\",\"21\",\"05\"],\n",
        "[\"Congressional District 3 (116th Congress), Kentucky\",\"321139\",\"21653\",\"22232\",\"21\",\"03\"],\n",
        "[\"Congressional District 4 (116th Congress), Illinois\",\"233648\",\"13329\",\"17528\",\"17\",\"04\"],\n",
        "[\"Congressional District 5 (116th Congress), Illinois\",\"321848\",\"15395\",\"62933\",\"17\",\"05\"],\n",
        "[\"Congressional District 6 (116th Congress), Illinois\",\"278406\",\"9739\",\"57993\",\"17\",\"06\"],\n",
        "[\"Congressional District 4 (116th Congress), Louisiana\",\"280819\",\"25121\",\"11048\",\"22\",\"04\"],\n",
        "[\"Congressional District 5 (116th Congress), Louisiana\",\"267586\",\"31442\",\"9717\",\"22\",\"05\"],\n",
        "[\"Congressional District 1 (116th Congress), Louisiana\",\"323389\",\"23649\",\"28080\",\"22\",\"01\"],\n",
        "[\"Congressional District 9 (116th Congress), Indiana\",\"303986\",\"21105\",\"16978\",\"18\",\"09\"],\n",
        "[\"Congressional District 1 (116th Congress), Illinois\",\"274137\",\"30437\",\"18408\",\"17\",\"01\"],\n",
        "[\"Congressional District 1 (116th Congress), Iowa\",\"318625\",\"13942\",\"18048\",\"19\",\"01\"],\n",
        "[\"Congressional District 2 (116th Congress), Iowa\",\"317583\",\"17993\",\"20070\",\"19\",\"02\"],\n",
        "[\"Congressional District 1 (116th Congress), Georgia\",\"292270\",\"21382\",\"15109\",\"13\",\"01\"],\n",
        "[\"Congressional District 2 (116th Congress), Maryland\",\"303914\",\"16617\",\"26059\",\"24\",\"02\"],\n",
        "[\"Congressional District 8 (116th Congress), Maryland\",\"296588\",\"11169\",\"73075\",\"24\",\"08\"],\n",
        "[\"Congressional District 6 (116th Congress), Maryland\",\"296970\",\"15740\",\"44354\",\"24\",\"06\"],\n",
        "[\"Congressional District 4 (116th Congress), Maryland\",\"295212\",\"15196\",\"38726\",\"24\",\"04\"],\n",
        "[\"Congressional District 3 (116th Congress), Missouri\",\"311234\",\"12613\",\"22746\",\"29\",\"03\"],\n",
        "[\"Congressional District 2 (116th Congress), Michigan\",\"288674\",\"12709\",\"15288\",\"26\",\"02\"],\n",
        "[\"Congressional District 6 (116th Congress), Missouri\",\"297714\",\"15159\",\"18947\",\"29\",\"06\"],\n",
        "[\"Congressional District 7 (116th Congress), Missouri\",\"320905\",\"19373\",\"14584\",\"29\",\"07\"],\n",
        "[\"Congressional District 5 (116th Congress), Michigan\",\"282817\",\"24427\",\"8871\",\"26\",\"05\"],\n",
        "[\"Congressional District 6 (116th Congress), Michigan\",\"287908\",\"17508\",\"15476\",\"26\",\"06\"],\n",
        "[\"Congressional District 8 (116th Congress), Michigan\",\"291660\",\"15750\",\"31091\",\"26\",\"08\"]]   \n",
        "\n",
        "\n",
        "filename = 'congressional_districts.csv'\n",
        "with open(filename, 'w', newline='') as file:\n",
        "    writer = csv.writer(file)\n",
        "    writer.writerows(data)\n",
        "\n",
        "from google.colab import files\n",
        "\n",
        "\n",
        "files.download(\"congressional_districts.csv\")\n",
        "\n",
        "\n",
        "\n"
      ],
      "metadata": {
        "id": "MIYVO_1Fxybx",
        "outputId": "03f6917a-8d47-451a-df09-3b3bcb2e3d1a",
        "colab": {
          "base_uri": "https://localhost:8080/",
          "height": 17
        }
      },
      "execution_count": 2,
      "outputs": [
        {
          "output_type": "display_data",
          "data": {
            "text/plain": [
              "<IPython.core.display.Javascript object>"
            ],
            "application/javascript": [
              "\n",
              "    async function download(id, filename, size) {\n",
              "      if (!google.colab.kernel.accessAllowed) {\n",
              "        return;\n",
              "      }\n",
              "      const div = document.createElement('div');\n",
              "      const label = document.createElement('label');\n",
              "      label.textContent = `Downloading \"${filename}\": `;\n",
              "      div.appendChild(label);\n",
              "      const progress = document.createElement('progress');\n",
              "      progress.max = size;\n",
              "      div.appendChild(progress);\n",
              "      document.body.appendChild(div);\n",
              "\n",
              "      const buffers = [];\n",
              "      let downloaded = 0;\n",
              "\n",
              "      const channel = await google.colab.kernel.comms.open(id);\n",
              "      // Send a message to notify the kernel that we're ready.\n",
              "      channel.send({})\n",
              "\n",
              "      for await (const message of channel.messages) {\n",
              "        // Send a message to notify the kernel that we're ready.\n",
              "        channel.send({})\n",
              "        if (message.buffers) {\n",
              "          for (const buffer of message.buffers) {\n",
              "            buffers.push(buffer);\n",
              "            downloaded += buffer.byteLength;\n",
              "            progress.value = downloaded;\n",
              "          }\n",
              "        }\n",
              "      }\n",
              "      const blob = new Blob(buffers, {type: 'application/binary'});\n",
              "      const a = document.createElement('a');\n",
              "      a.href = window.URL.createObjectURL(blob);\n",
              "      a.download = filename;\n",
              "      div.appendChild(a);\n",
              "      a.click();\n",
              "      div.remove();\n",
              "    }\n",
              "  "
            ]
          },
          "metadata": {}
        },
        {
          "output_type": "display_data",
          "data": {
            "text/plain": [
              "<IPython.core.display.Javascript object>"
            ],
            "application/javascript": [
              "download(\"download_d9c8a3b2-6ffb-4966-bee3-b4aa68b38606\", \"congressional_districts.csv\", 35400)"
            ]
          },
          "metadata": {}
        }
      ]
    },
    {
      "cell_type": "code",
      "source": [
        "from google.colab import files\n",
        "\n",
        "\n",
        "merged_df_final.to_csv(\"merged_df_final.csv\", index=False)\n",
        "files.download(\"merged_df_final.csv\")"
      ],
      "metadata": {
        "id": "J4KW_njM1S60",
        "outputId": "17173f43-fdbc-4163-8aff-dd6d23cd524f",
        "colab": {
          "base_uri": "https://localhost:8080/",
          "height": 17
        }
      },
      "execution_count": 14,
      "outputs": [
        {
          "output_type": "display_data",
          "data": {
            "text/plain": [
              "<IPython.core.display.Javascript object>"
            ],
            "application/javascript": [
              "\n",
              "    async function download(id, filename, size) {\n",
              "      if (!google.colab.kernel.accessAllowed) {\n",
              "        return;\n",
              "      }\n",
              "      const div = document.createElement('div');\n",
              "      const label = document.createElement('label');\n",
              "      label.textContent = `Downloading \"${filename}\": `;\n",
              "      div.appendChild(label);\n",
              "      const progress = document.createElement('progress');\n",
              "      progress.max = size;\n",
              "      div.appendChild(progress);\n",
              "      document.body.appendChild(div);\n",
              "\n",
              "      const buffers = [];\n",
              "      let downloaded = 0;\n",
              "\n",
              "      const channel = await google.colab.kernel.comms.open(id);\n",
              "      // Send a message to notify the kernel that we're ready.\n",
              "      channel.send({})\n",
              "\n",
              "      for await (const message of channel.messages) {\n",
              "        // Send a message to notify the kernel that we're ready.\n",
              "        channel.send({})\n",
              "        if (message.buffers) {\n",
              "          for (const buffer of message.buffers) {\n",
              "            buffers.push(buffer);\n",
              "            downloaded += buffer.byteLength;\n",
              "            progress.value = downloaded;\n",
              "          }\n",
              "        }\n",
              "      }\n",
              "      const blob = new Blob(buffers, {type: 'application/binary'});\n",
              "      const a = document.createElement('a');\n",
              "      a.href = window.URL.createObjectURL(blob);\n",
              "      a.download = filename;\n",
              "      div.appendChild(a);\n",
              "      a.click();\n",
              "      div.remove();\n",
              "    }\n",
              "  "
            ]
          },
          "metadata": {}
        },
        {
          "output_type": "display_data",
          "data": {
            "text/plain": [
              "<IPython.core.display.Javascript object>"
            ],
            "application/javascript": [
              "download(\"download_fbb32feb-c2d5-401e-9007-ff0e3f668794\", \"merged_df_final.csv\", 5313533)"
            ]
          },
          "metadata": {}
        }
      ]
    }
  ]
}